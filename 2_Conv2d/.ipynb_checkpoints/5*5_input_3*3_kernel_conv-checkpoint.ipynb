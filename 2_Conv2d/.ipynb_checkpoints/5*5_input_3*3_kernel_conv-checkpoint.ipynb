{
 "cells": [
  {
   "cell_type": "code",
   "execution_count": 1,
   "id": "4e8aa603",
   "metadata": {},
   "outputs": [],
   "source": [
    "#5*5 input 3*3 kernel convolution"
   ]
  },
  {
   "cell_type": "code",
   "execution_count": 2,
   "id": "43b0859d",
   "metadata": {},
   "outputs": [],
   "source": [
    "import torch \n",
    "from torch.autograd import Variable \n",
    "import torch.nn as nn\n",
    "import torch.nn.functional as F"
   ]
  },
  {
   "cell_type": "code",
   "execution_count": 3,
   "id": "6236951e",
   "metadata": {},
   "outputs": [
    {
     "name": "stdout",
     "output_type": "stream",
     "text": [
      "Parameter containing:\n",
      "tensor([[[[-0.1457, -0.1453,  0.2872],\n",
      "          [ 0.1319,  0.1762, -0.1126],\n",
      "          [ 0.1758,  0.1451, -0.1759]]]], requires_grad=True)\n"
     ]
    }
   ],
   "source": [
    "input = torch.ones(1,1,5,5)\n",
    "input = Variable(input, requires_grad=True)\n",
    "filter = nn.Conv2d(1,1,3,bias=None)\n",
    "print(filter.weight)"
   ]
  },
  {
   "cell_type": "code",
   "execution_count": 4,
   "id": "aa9f4973",
   "metadata": {},
   "outputs": [
    {
     "name": "stdout",
     "output_type": "stream",
     "text": [
      "tensor([[[[18., 18., 18.],\n",
      "          [18., 18., 18.],\n",
      "          [18., 18., 18.]]]], grad_fn=<ThnnConv2DBackward>)\n"
     ]
    }
   ],
   "source": [
    "filter.weight = nn.Parameter(torch.ones(1,1,3,3) + 1)\n",
    "filter.weight\n",
    "out = filter(input)\n",
    "print(out)"
   ]
  }
 ],
 "metadata": {
  "kernelspec": {
   "display_name": "pattern",
   "language": "python",
   "name": "pattern"
  },
  "language_info": {
   "codemirror_mode": {
    "name": "ipython",
    "version": 3
   },
   "file_extension": ".py",
   "mimetype": "text/x-python",
   "name": "python",
   "nbconvert_exporter": "python",
   "pygments_lexer": "ipython3",
   "version": "3.6.9"
  }
 },
 "nbformat": 4,
 "nbformat_minor": 5
}
