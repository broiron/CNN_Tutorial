{
 "cells": [
  {
   "cell_type": "code",
   "execution_count": 1,
   "id": "5b5e479b",
   "metadata": {},
   "outputs": [],
   "source": [
    "# torch.nn.Conv2d"
   ]
  },
  {
   "cell_type": "code",
   "execution_count": 2,
   "id": "ae039146",
   "metadata": {},
   "outputs": [],
   "source": [
    "import torch \n",
    "from torch.autograd import Variable \n",
    "import torch.nn as nn "
   ]
  },
  {
   "cell_type": "code",
   "execution_count": 3,
   "id": "687c06a8",
   "metadata": {},
   "outputs": [
    {
     "data": {
      "text/plain": [
       "Parameter containing:\n",
       "tensor([[[[ 0.0899,  0.2264,  0.0445],\n",
       "          [ 0.0594,  0.1546,  0.2668],\n",
       "          [-0.1435, -0.3008,  0.0715]]]], requires_grad=True)"
      ]
     },
     "execution_count": 3,
     "metadata": {},
     "output_type": "execute_result"
    }
   ],
   "source": [
    "input = torch.ones(1,1,3,3)\n",
    "input = Variable(input, requires_grad=True)\n",
    "filter = nn.Conv2d(1,1,3) #Conv2d 모델 사용\n",
    "filter.weight"
   ]
  },
  {
   "cell_type": "code",
   "execution_count": 4,
   "id": "f05ccef4",
   "metadata": {},
   "outputs": [
    {
     "name": "stdout",
     "output_type": "stream",
     "text": [
      "tensor([[[[0.6477]]]], grad_fn=<ThnnConv2DBackward>)\n",
      "None\n"
     ]
    }
   ],
   "source": [
    "out = filter(input)\n",
    "print(out)\n",
    "print(input.grad)"
   ]
  },
  {
   "cell_type": "code",
   "execution_count": 5,
   "id": "1427e5b2",
   "metadata": {},
   "outputs": [
    {
     "name": "stdout",
     "output_type": "stream",
     "text": [
      "<ThnnConv2DBackward object at 0x7f61d871c5f8>\n",
      "tensor([[[[ 0.0899,  0.2264,  0.0445],\n",
      "          [ 0.0594,  0.1546,  0.2668],\n",
      "          [-0.1435, -0.3008,  0.0715]]]])\n"
     ]
    }
   ],
   "source": [
    "out.backward()\n",
    "print(out.grad_fn)\n",
    "print(input.grad)"
   ]
  },
  {
   "cell_type": "code",
   "execution_count": null,
   "id": "968f158f",
   "metadata": {},
   "outputs": [],
   "source": []
  }
 ],
 "metadata": {
  "kernelspec": {
   "display_name": "pattern",
   "language": "python",
   "name": "pattern"
  },
  "language_info": {
   "codemirror_mode": {
    "name": "ipython",
    "version": 3
   },
   "file_extension": ".py",
   "mimetype": "text/x-python",
   "name": "python",
   "nbconvert_exporter": "python",
   "pygments_lexer": "ipython3",
   "version": "3.6.9"
  }
 },
 "nbformat": 4,
 "nbformat_minor": 5
}
