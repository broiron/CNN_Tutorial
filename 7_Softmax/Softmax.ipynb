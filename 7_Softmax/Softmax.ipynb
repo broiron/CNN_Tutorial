{
 "cells": [
  {
   "cell_type": "code",
   "execution_count": 1,
   "id": "746528d3",
   "metadata": {},
   "outputs": [],
   "source": [
    "import torch \n",
    "import torch.nn as nn \n",
    "import torch.nn.functional as F \n",
    "import torch.optim as optim"
   ]
  },
  {
   "cell_type": "code",
   "execution_count": 2,
   "id": "8f97d613",
   "metadata": {},
   "outputs": [
    {
     "data": {
      "text/plain": [
       "<torch._C.Generator at 0x7ff2f18bbcf0>"
      ]
     },
     "execution_count": 2,
     "metadata": {},
     "output_type": "execute_result"
    }
   ],
   "source": [
    "torch.manual_seed(1)"
   ]
  },
  {
   "cell_type": "code",
   "execution_count": 3,
   "id": "b4d23037",
   "metadata": {},
   "outputs": [],
   "source": [
    "x_train = [[1, 2, 1, 1],\n",
    "           [2, 1, 3, 2],\n",
    "           [3, 1, 3, 4],\n",
    "           [4, 1, 5, 5],\n",
    "           [1, 7, 5, 5],\n",
    "           [1, 2, 5, 6],\n",
    "           [1, 6, 6, 6],\n",
    "           [1, 7, 7, 7]] \n",
    "y_train = [2, 2, 2, 1, 1, 1, 0, 0] \n",
    "x_train = torch.FloatTensor(x_train) \n",
    "y_train = torch.LongTensor(y_train)"
   ]
  },
  {
   "cell_type": "code",
   "execution_count": 4,
   "id": "003d991e",
   "metadata": {},
   "outputs": [
    {
     "name": "stdout",
     "output_type": "stream",
     "text": [
      "torch.Size([8, 4])\n",
      "torch.Size([8])\n"
     ]
    }
   ],
   "source": [
    "print(x_train.shape) \n",
    "print(y_train.shape)"
   ]
  },
  {
   "cell_type": "code",
   "execution_count": 5,
   "id": "c2f28133",
   "metadata": {},
   "outputs": [
    {
     "name": "stdout",
     "output_type": "stream",
     "text": [
      "torch.Size([8, 3])\n"
     ]
    }
   ],
   "source": [
    "y_one_hot = torch.zeros(8, 3) \n",
    "y_one_hot.scatter_(1, y_train.unsqueeze(1), 1) \n",
    "print(y_one_hot.shape)"
   ]
  },
  {
   "cell_type": "code",
   "execution_count": 6,
   "id": "02f25a89",
   "metadata": {},
   "outputs": [],
   "source": [
    "W = torch.zeros((4, 3), requires_grad=True) \n",
    "b = torch.zeros(1, requires_grad=True) "
   ]
  },
  {
   "cell_type": "code",
   "execution_count": 7,
   "id": "9fb8bd39",
   "metadata": {},
   "outputs": [],
   "source": [
    "optimizer = optim.SGD([W, b], lr=0.001) "
   ]
  },
  {
   "cell_type": "code",
   "execution_count": 8,
   "id": "c1a98d60",
   "metadata": {},
   "outputs": [
    {
     "name": "stdout",
     "output_type": "stream",
     "text": [
      "Epoch    0/1000 Cost: 1.098612\n",
      "Epoch  100/1000 Cost: 1.017438\n",
      "Epoch  200/1000 Cost: 0.982521\n",
      "Epoch  300/1000 Cost: 0.955336\n",
      "Epoch  400/1000 Cost: 0.932983\n",
      "Epoch  500/1000 Cost: 0.914198\n",
      "Epoch  600/1000 Cost: 0.898131\n",
      "Epoch  700/1000 Cost: 0.884174\n",
      "Epoch  800/1000 Cost: 0.871885\n",
      "Epoch  900/1000 Cost: 0.860936\n",
      "Epoch 1000/1000 Cost: 0.851076\n"
     ]
    }
   ],
   "source": [
    "nb_epochs = 1000 \n",
    "for epoch in range(nb_epochs + 1): \n",
    "    # Cost 계산 \n",
    "    z = x_train.matmul(W) + b \n",
    "    cost = F.cross_entropy(z, y_train) \n",
    "    # cost로 H(x) 개선 \n",
    "    optimizer.zero_grad()\n",
    "    cost.backward()\n",
    "    optimizer.step() \n",
    "    # 100번마다 로그 출력 \n",
    "    if epoch % 100 == 0: \n",
    "        print('Epoch {:4d}/{} Cost: {:.6f}'.format(epoch, nb_epochs, cost.item()))"
   ]
  },
  {
   "cell_type": "code",
   "execution_count": null,
   "id": "69201c46",
   "metadata": {},
   "outputs": [],
   "source": []
  }
 ],
 "metadata": {
  "kernelspec": {
   "display_name": "pattern",
   "language": "python",
   "name": "pattern"
  },
  "language_info": {
   "codemirror_mode": {
    "name": "ipython",
    "version": 3
   },
   "file_extension": ".py",
   "mimetype": "text/x-python",
   "name": "python",
   "nbconvert_exporter": "python",
   "pygments_lexer": "ipython3",
   "version": "3.6.9"
  }
 },
 "nbformat": 4,
 "nbformat_minor": 5
}
