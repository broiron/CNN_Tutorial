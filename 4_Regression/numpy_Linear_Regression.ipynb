{
 "cells": [
  {
   "cell_type": "code",
   "execution_count": 1,
   "id": "92e0027a",
   "metadata": {},
   "outputs": [],
   "source": [
    "import numpy as np"
   ]
  },
  {
   "cell_type": "code",
   "execution_count": 2,
   "id": "739f0728",
   "metadata": {},
   "outputs": [],
   "source": [
    "x_train = np.array([[1],[2],[3]]);\n",
    "y_train = np.array([[2],[4],[6]]);"
   ]
  },
  {
   "cell_type": "code",
   "execution_count": 3,
   "id": "da073f1f",
   "metadata": {},
   "outputs": [],
   "source": [
    "W = 0.0;\n",
    "b = 0.0;\n",
    "lr=0.01\n",
    "n_data = len(x_train) \n",
    "nb_epochs = 2000;"
   ]
  },
  {
   "cell_type": "code",
   "execution_count": 4,
   "id": "4b30ae77",
   "metadata": {},
   "outputs": [
    {
     "name": "stdout",
     "output_type": "stream",
     "text": [
      "Epoch    0/2000 W: 0.187, b: 0.080 Cost: 18.666667\n",
      "Epoch  100/2000 W: 1.746, b: 0.578 Cost: 0.048171\n",
      "Epoch  200/2000 W: 1.800, b: 0.454 Cost: 0.029766\n",
      "Epoch  300/2000 W: 1.843, b: 0.357 Cost: 0.018394\n",
      "Epoch  400/2000 W: 1.876, b: 0.281 Cost: 0.011366\n",
      "Epoch  500/2000 W: 1.903, b: 0.221 Cost: 0.007024\n",
      "Epoch  600/2000 W: 1.924, b: 0.174 Cost: 0.004340\n",
      "Epoch  700/2000 W: 1.940, b: 0.136 Cost: 0.002682\n",
      "Epoch  800/2000 W: 1.953, b: 0.107 Cost: 0.001657\n",
      "Epoch  900/2000 W: 1.963, b: 0.084 Cost: 0.001024\n",
      "Epoch 1000/2000 W: 1.971, b: 0.066 Cost: 0.000633\n",
      "Epoch 1100/2000 W: 1.977, b: 0.052 Cost: 0.000391\n",
      "Epoch 1200/2000 W: 1.982, b: 0.041 Cost: 0.000242\n",
      "Epoch 1300/2000 W: 1.986, b: 0.032 Cost: 0.000149\n",
      "Epoch 1400/2000 W: 1.989, b: 0.025 Cost: 0.000092\n",
      "Epoch 1500/2000 W: 1.991, b: 0.020 Cost: 0.000057\n",
      "Epoch 1600/2000 W: 1.993, b: 0.016 Cost: 0.000035\n",
      "Epoch 1700/2000 W: 1.995, b: 0.012 Cost: 0.000022\n",
      "Epoch 1800/2000 W: 1.996, b: 0.010 Cost: 0.000013\n",
      "Epoch 1900/2000 W: 1.997, b: 0.008 Cost: 0.000008\n",
      "Epoch 2000/2000 W: 1.997, b: 0.006 Cost: 0.000005\n"
     ]
    }
   ],
   "source": [
    "for epoch in range(nb_epochs+1):\n",
    "    hypothesis = x_train * W + b; #prediction\n",
    "    cost = np.sum((hypothesis - y_train)**2) / n_data #비용함수 MSE\n",
    "    gradient_w = np.sum((hypothesis - y_train) * 2 * x_train) / n_data\n",
    "    gradient_b = np.sum((hypothesis - y_train) * 2) / n_data\n",
    "    W -= lr * gradient_w #경사하강법 적용\n",
    "    b -= lr * gradient_b \n",
    "    if epoch % 100 == 0:\n",
    "        print('Epoch {:4d}/{} W: {:,.3f}, b: {:.3f} Cost: {:.6f}'.format(epoch, \t     nb_epochs, W, b, cost))"
   ]
  },
  {
   "cell_type": "code",
   "execution_count": null,
   "id": "ea44e438",
   "metadata": {},
   "outputs": [],
   "source": []
  }
 ],
 "metadata": {
  "kernelspec": {
   "display_name": "pattern",
   "language": "python",
   "name": "pattern"
  },
  "language_info": {
   "codemirror_mode": {
    "name": "ipython",
    "version": 3
   },
   "file_extension": ".py",
   "mimetype": "text/x-python",
   "name": "python",
   "nbconvert_exporter": "python",
   "pygments_lexer": "ipython3",
   "version": "3.6.9"
  }
 },
 "nbformat": 4,
 "nbformat_minor": 5
}
