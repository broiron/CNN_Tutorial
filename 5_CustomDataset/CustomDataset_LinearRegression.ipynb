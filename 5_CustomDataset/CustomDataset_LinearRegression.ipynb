{
 "cells": [
  {
   "cell_type": "code",
   "execution_count": 1,
   "id": "c9ccdbe3",
   "metadata": {},
   "outputs": [],
   "source": [
    "import torch \n",
    "import torch.nn.functional as F"
   ]
  },
  {
   "cell_type": "code",
   "execution_count": 2,
   "id": "ae79338b",
   "metadata": {},
   "outputs": [],
   "source": [
    "from torch.utils.data import Dataset \n",
    "from torch.utils.data import DataLoader"
   ]
  },
  {
   "cell_type": "code",
   "execution_count": 3,
   "id": "cb0f8b70",
   "metadata": {},
   "outputs": [],
   "source": [
    "class CustomDataset(Dataset): \n",
    "    def __init__(self): \n",
    "        self.x_data = [[73, 80, 75], \n",
    "                       [93, 88, 93],\n",
    "                       [89, 91, 90],\n",
    "                       [96, 98, 100],\n",
    "                       [73, 66, 70]]\n",
    "        self.y_data = [[152], [185], [180], [196], [142]]\n",
    "\n",
    "    def __len__(self):\n",
    "        return len(self.x_data)\n",
    "\n",
    "    def __getitem__(self, idx):\n",
    "        x = torch.FloatTensor(self.x_data[idx]) \n",
    "        y = torch.FloatTensor(self.y_data[idx]) \n",
    "        return x, y"
   ]
  },
  {
   "cell_type": "code",
   "execution_count": 4,
   "id": "93179cdb",
   "metadata": {},
   "outputs": [],
   "source": [
    "dataset = CustomDataset() \n",
    "dataloader = DataLoader(dataset, batch_size=2, shuffle=True)"
   ]
  },
  {
   "cell_type": "code",
   "execution_count": 5,
   "id": "08f5be52",
   "metadata": {},
   "outputs": [],
   "source": [
    "model = torch.nn.Linear(3,1) \n",
    "optimizer = torch.optim.SGD(model.parameters(), lr=1e-5)"
   ]
  },
  {
   "cell_type": "code",
   "execution_count": 6,
   "id": "d263ab27",
   "metadata": {},
   "outputs": [
    {
     "name": "stdout",
     "output_type": "stream",
     "text": [
      "Epoch    0/20 Batch 1/3 Cost: 7864.207520\n",
      "Epoch    0/20 Batch 2/3 Cost: 3120.752930\n",
      "Epoch    0/20 Batch 3/3 Cost: 1182.783325\n",
      "Epoch    1/20 Batch 1/3 Cost: 300.687378\n",
      "Epoch    1/20 Batch 2/3 Cost: 27.987865\n",
      "Epoch    1/20 Batch 3/3 Cost: 14.061356\n",
      "Epoch    2/20 Batch 1/3 Cost: 26.790688\n",
      "Epoch    2/20 Batch 2/3 Cost: 10.628123\n",
      "Epoch    2/20 Batch 3/3 Cost: 1.644144\n",
      "Epoch    3/20 Batch 1/3 Cost: 1.207027\n",
      "Epoch    3/20 Batch 2/3 Cost: 11.310043\n",
      "Epoch    3/20 Batch 3/3 Cost: 23.372272\n",
      "Epoch    4/20 Batch 1/3 Cost: 8.100883\n",
      "Epoch    4/20 Batch 2/3 Cost: 7.009295\n",
      "Epoch    4/20 Batch 3/3 Cost: 22.556122\n",
      "Epoch    5/20 Batch 1/3 Cost: 10.564676\n",
      "Epoch    5/20 Batch 2/3 Cost: 14.162177\n",
      "Epoch    5/20 Batch 3/3 Cost: 13.630311\n",
      "Epoch    6/20 Batch 1/3 Cost: 13.845122\n",
      "Epoch    6/20 Batch 2/3 Cost: 2.863402\n",
      "Epoch    6/20 Batch 3/3 Cost: 13.872033\n",
      "Epoch    7/20 Batch 1/3 Cost: 12.594718\n",
      "Epoch    7/20 Batch 2/3 Cost: 6.562104\n",
      "Epoch    7/20 Batch 3/3 Cost: 3.492831\n",
      "Epoch    8/20 Batch 1/3 Cost: 6.475103\n",
      "Epoch    8/20 Batch 2/3 Cost: 4.278457\n",
      "Epoch    8/20 Batch 3/3 Cost: 25.511625\n",
      "Epoch    9/20 Batch 1/3 Cost: 6.723392\n",
      "Epoch    9/20 Batch 2/3 Cost: 6.826968\n",
      "Epoch    9/20 Batch 3/3 Cost: 22.657547\n",
      "Epoch   10/20 Batch 1/3 Cost: 9.478889\n",
      "Epoch   10/20 Batch 2/3 Cost: 15.194525\n",
      "Epoch   10/20 Batch 3/3 Cost: 14.278241\n",
      "Epoch   11/20 Batch 1/3 Cost: 5.118647\n",
      "Epoch   11/20 Batch 2/3 Cost: 6.964918\n",
      "Epoch   11/20 Batch 3/3 Cost: 25.977543\n",
      "Epoch   12/20 Batch 1/3 Cost: 6.604203\n",
      "Epoch   12/20 Batch 2/3 Cost: 9.415225\n",
      "Epoch   12/20 Batch 3/3 Cost: 11.265725\n",
      "Epoch   13/20 Batch 1/3 Cost: 7.912355\n",
      "Epoch   13/20 Batch 2/3 Cost: 10.658075\n",
      "Epoch   13/20 Batch 3/3 Cost: 6.461337\n",
      "Epoch   14/20 Batch 1/3 Cost: 19.877602\n",
      "Epoch   14/20 Batch 2/3 Cost: 7.387821\n",
      "Epoch   14/20 Batch 3/3 Cost: 5.121102\n",
      "Epoch   15/20 Batch 1/3 Cost: 15.672883\n",
      "Epoch   15/20 Batch 2/3 Cost: 6.138128\n",
      "Epoch   15/20 Batch 3/3 Cost: 4.586523\n",
      "Epoch   16/20 Batch 1/3 Cost: 0.433930\n",
      "Epoch   16/20 Batch 2/3 Cost: 9.827432\n",
      "Epoch   16/20 Batch 3/3 Cost: 23.484240\n",
      "Epoch   17/20 Batch 1/3 Cost: 7.154192\n",
      "Epoch   17/20 Batch 2/3 Cost: 20.202995\n",
      "Epoch   17/20 Batch 3/3 Cost: 1.964215\n",
      "Epoch   18/20 Batch 1/3 Cost: 13.725288\n",
      "Epoch   18/20 Batch 2/3 Cost: 4.897072\n",
      "Epoch   18/20 Batch 3/3 Cost: 5.909315\n",
      "Epoch   19/20 Batch 1/3 Cost: 1.653522\n",
      "Epoch   19/20 Batch 2/3 Cost: 14.927590\n",
      "Epoch   19/20 Batch 3/3 Cost: 11.077737\n",
      "Epoch   20/20 Batch 1/3 Cost: 12.324986\n",
      "Epoch   20/20 Batch 2/3 Cost: 4.205771\n",
      "Epoch   20/20 Batch 3/3 Cost: 9.363492\n"
     ]
    }
   ],
   "source": [
    "nb_epochs = 20 \n",
    "for epoch in range(nb_epochs + 1): \n",
    "    for batch_idx, samples in enumerate(dataloader): \n",
    "        # print(batch_idx) \n",
    "        # print(samples) \n",
    "        x_train, y_train = samples \n",
    "        # H(x) 계산 \n",
    "        prediction = model(x_train)\n",
    "\n",
    "        # cost 계산\n",
    "        cost = F.mse_loss(prediction, y_train)\n",
    "\n",
    "        # cost로 H(x) 계산\n",
    "        optimizer.zero_grad()\n",
    "        cost.backward()\n",
    "        optimizer.step()\n",
    "        print('Epoch {:4d}/{} Batch {}/{} Cost: {:.6f}'.format(\n",
    "            epoch, nb_epochs, batch_idx+1, len(dataloader), cost.item()\n",
    "            ))"
   ]
  }
 ],
 "metadata": {
  "kernelspec": {
   "display_name": "pattern",
   "language": "python",
   "name": "pattern"
  },
  "language_info": {
   "codemirror_mode": {
    "name": "ipython",
    "version": 3
   },
   "file_extension": ".py",
   "mimetype": "text/x-python",
   "name": "python",
   "nbconvert_exporter": "python",
   "pygments_lexer": "ipython3",
   "version": "3.6.9"
  }
 },
 "nbformat": 4,
 "nbformat_minor": 5
}
