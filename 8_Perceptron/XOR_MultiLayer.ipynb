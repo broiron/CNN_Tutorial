{
 "cells": [
  {
   "cell_type": "code",
   "execution_count": 1,
   "id": "a46d9efe",
   "metadata": {},
   "outputs": [],
   "source": [
    "import torch \n",
    "import torch.nn as nn\n",
    "import torch.optim as optim\n",
    "import torch.nn.functional as F"
   ]
  },
  {
   "cell_type": "code",
   "execution_count": 3,
   "id": "fa025e06",
   "metadata": {},
   "outputs": [],
   "source": [
    "device = \"cuda\" if torch.cuda.is_available() else \"cpu\""
   ]
  },
  {
   "cell_type": "code",
   "execution_count": 5,
   "id": "a7aba245",
   "metadata": {},
   "outputs": [],
   "source": [
    "torch.manual_seed(777) #random seed 고정\n",
    "if device == \"cuda\": #gpu연산 setting\n",
    "    torch.cuda.manual_seed_all(777)"
   ]
  },
  {
   "cell_type": "code",
   "execution_count": 6,
   "id": "42d52d17",
   "metadata": {},
   "outputs": [],
   "source": [
    "X = torch.FloatTensor([[0, 0], [0, 1], [1, 0], [1, 1]]).to(device) \n",
    "Y = torch.FloatTensor([[0], [1], [1], [0]]).to(device)"
   ]
  },
  {
   "cell_type": "code",
   "execution_count": 7,
   "id": "0459b85f",
   "metadata": {},
   "outputs": [],
   "source": [
    "model = nn.Sequential(\n",
    "\tnn.Linear(2, 10, bias=True), # input_layer = 2, hidden_layer1 = 10 \n",
    "\tnn.Sigmoid(), \n",
    "\tnn.Linear(10, 10, bias=True), # hidden_layer1 = 10, hidden_layer2 = 10 \n",
    "\tnn.Sigmoid(), \n",
    "\tnn.Linear(10, 10, bias=True), # hidden_layer2 = 10, hidden_layer3 = 10 \n",
    "\tnn.Sigmoid(), \n",
    "\tnn.Linear(10, 1, bias=True), # hidden_layer3 = 10, output_layer = 1 \n",
    "\tnn.Sigmoid() \n",
    "\t).to(device)"
   ]
  },
  {
   "cell_type": "code",
   "execution_count": 8,
   "id": "b30d1a54",
   "metadata": {},
   "outputs": [],
   "source": [
    "criterion = torch.nn.BCELoss().to(device) #cost함수\n",
    "optimizer = torch.optim.SGD(model.parameters(), lr=1)"
   ]
  },
  {
   "cell_type": "code",
   "execution_count": 9,
   "id": "93a65a61",
   "metadata": {},
   "outputs": [
    {
     "name": "stdout",
     "output_type": "stream",
     "text": [
      "0 0.6948983669281006\n",
      "100 0.6931558847427368\n",
      "200 0.6931535005569458\n",
      "300 0.6931514143943787\n",
      "400 0.6931493282318115\n",
      "500 0.6931473016738892\n",
      "600 0.6931453943252563\n",
      "700 0.6931434869766235\n",
      "800 0.6931416988372803\n",
      "900 0.6931397914886475\n",
      "1000 0.6931380033493042\n",
      "1100 0.6931361556053162\n",
      "1200 0.6931343078613281\n",
      "1300 0.6931324005126953\n",
      "1400 0.6931304931640625\n",
      "1500 0.6931284666061401\n",
      "1600 0.6931264400482178\n",
      "1700 0.6931242942810059\n",
      "1800 0.6931220293045044\n",
      "1900 0.6931196451187134\n",
      "2000 0.6931171417236328\n",
      "2100 0.6931145191192627\n",
      "2200 0.6931116580963135\n",
      "2300 0.6931085586547852\n",
      "2400 0.6931051015853882\n",
      "2500 0.6931014657020569\n",
      "2600 0.6930974721908569\n",
      "2700 0.6930930018424988\n",
      "2800 0.6930880546569824\n",
      "2900 0.6930825710296631\n",
      "3000 0.6930763125419617\n",
      "3100 0.6930692791938782\n",
      "3200 0.6930612325668335\n",
      "3300 0.6930519342422485\n",
      "3400 0.6930411458015442\n",
      "3500 0.693028450012207\n",
      "3600 0.6930133104324341\n",
      "3700 0.6929951906204224\n",
      "3800 0.6929728984832764\n",
      "3900 0.6929453015327454\n",
      "4000 0.692910373210907\n",
      "4100 0.6928649544715881\n",
      "4200 0.6928046941757202\n",
      "4300 0.6927220225334167\n",
      "4400 0.6926040649414062\n",
      "4500 0.6924278736114502\n",
      "4600 0.6921480298042297\n",
      "4700 0.6916664838790894\n",
      "4800 0.6907395124435425\n",
      "4900 0.6886202096939087\n",
      "5000 0.6820816993713379\n",
      "5100 0.6472525000572205\n",
      "5200 0.4493931233882904\n",
      "5300 0.03998958319425583\n",
      "5400 0.009627417661249638\n",
      "5500 0.00500385370105505\n",
      "5600 0.0032832976430654526\n",
      "5700 0.0024094812106341124\n",
      "5800 0.0018878383561968803\n",
      "5900 0.0015439644921571016\n",
      "6000 0.001301448792219162\n",
      "6100 0.0011218584841117263\n",
      "6200 0.0009839022532105446\n",
      "6300 0.0008748103864490986\n",
      "6400 0.0007865793304517865\n",
      "6500 0.0007137604989111423\n",
      "6600 0.0006527717341668904\n",
      "6700 0.0006009715143591166\n",
      "6800 0.0005564350867643952\n",
      "6900 0.000517789856530726\n",
      "7000 0.0004839467001147568\n",
      "7100 0.0004540703375823796\n",
      "7200 0.0004275043320376426\n",
      "7300 0.0004037565959151834\n",
      "7400 0.0003824243904091418\n",
      "7500 0.000363134837243706\n",
      "7600 0.00034560466883704066\n",
      "7700 0.00032965486752800643\n",
      "7800 0.0003150319680571556\n",
      "7900 0.0003015868132933974\n",
      "8000 0.00028922996716573834\n",
      "8100 0.0002777974586933851\n",
      "8200 0.000267184863332659\n",
      "8300 0.00025731761706992984\n",
      "8400 0.00024813611526042223\n",
      "8500 0.00023955086362548172\n",
      "8600 0.00023153208894655108\n",
      "8700 0.0002239903260488063\n",
      "8800 0.0002169553772546351\n",
      "8900 0.00021027818729635328\n",
      "9000 0.00020400344510562718\n",
      "9100 0.00019807156058959663\n",
      "9200 0.00019248250464443117\n",
      "9300 0.0001871468557510525\n",
      "9400 0.00018212418945040554\n",
      "9500 0.0001773400290403515\n",
      "9600 0.00017277945880778134\n",
      "9700 0.00016850206884555519\n",
      "9800 0.00016435884754173458\n",
      "9900 0.0001604242715984583\n",
      "10000 0.00015668346895836294\n"
     ]
    }
   ],
   "source": [
    "for epoch in range(10001):\n",
    "    optimizer.zero_grad()\n",
    "    # forward 연산\n",
    "    hypothesis = model(X)\n",
    "\n",
    "    # 비용 함수\n",
    "    cost = criterion(hypothesis, Y)\n",
    "    cost.backward() \n",
    "    optimizer.step()\n",
    "\n",
    "    # 100의 배수에 해당되는 에포크마다 비용을 출력\n",
    "    if epoch % 100 == 0:\n",
    "        print(epoch, cost.item())"
   ]
  },
  {
   "cell_type": "code",
   "execution_count": 10,
   "id": "4668cad6",
   "metadata": {},
   "outputs": [
    {
     "name": "stdout",
     "output_type": "stream",
     "text": [
      "모델의 출력값(Hypothesis):  [[1.11791465e-04]\n",
      " [9.99828696e-01]\n",
      " [9.99842167e-01]\n",
      " [1.85544617e-04]]\n",
      "모델의 예측값(Predicted):  [[0.]\n",
      " [1.]\n",
      " [1.]\n",
      " [0.]]\n",
      "실제값(Y):  [[0.]\n",
      " [1.]\n",
      " [1.]\n",
      " [0.]]\n",
      "정확도(Accuracy):  1.0\n"
     ]
    }
   ],
   "source": [
    "with torch.no_grad():\n",
    "    hypothesis = model(X)\n",
    "    predicted = (hypothesis > 0.5).float()\n",
    "    accuracy = (predicted == Y).float().mean()\n",
    "    print('모델의 출력값(Hypothesis): ', hypothesis.detach().cpu().numpy())\n",
    "    print('모델의 예측값(Predicted): ', predicted.detach().cpu().numpy())\n",
    "    print('실제값(Y): ', Y.cpu().numpy())\n",
    "    print('정확도(Accuracy): ', accuracy.item())"
   ]
  }
 ],
 "metadata": {
  "kernelspec": {
   "display_name": "pattern",
   "language": "python",
   "name": "pattern"
  },
  "language_info": {
   "codemirror_mode": {
    "name": "ipython",
    "version": 3
   },
   "file_extension": ".py",
   "mimetype": "text/x-python",
   "name": "python",
   "nbconvert_exporter": "python",
   "pygments_lexer": "ipython3",
   "version": "3.6.9"
  }
 },
 "nbformat": 4,
 "nbformat_minor": 5
}
