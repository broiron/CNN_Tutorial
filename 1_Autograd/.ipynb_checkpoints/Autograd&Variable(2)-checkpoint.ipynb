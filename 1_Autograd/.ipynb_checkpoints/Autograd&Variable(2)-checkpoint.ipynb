{
 "cells": [
  {
   "cell_type": "code",
   "execution_count": 1,
   "id": "c02b42e1",
   "metadata": {},
   "outputs": [],
   "source": [
    "import torch\n",
    "from torch.autograd import Variable"
   ]
  },
  {
   "cell_type": "code",
   "execution_count": 2,
   "id": "3f7d142a",
   "metadata": {},
   "outputs": [],
   "source": [
    "x = torch.ones(3)\n",
    "x = Variable(x, requires_grad=True)\n",
    "y = x**2\n",
    "z = y*3"
   ]
  },
  {
   "cell_type": "code",
   "execution_count": 3,
   "id": "f438543b",
   "metadata": {},
   "outputs": [
    {
     "name": "stdout",
     "output_type": "stream",
     "text": [
      "tensor([3., 3., 3.], grad_fn=<MulBackward0>)\n"
     ]
    }
   ],
   "source": [
    "print(z)\n",
    "grad = torch.Tensor([0.1, 1, 10])\n",
    "z.backward(grad)"
   ]
  },
  {
   "cell_type": "code",
   "execution_count": 4,
   "id": "0bf5b716",
   "metadata": {},
   "outputs": [
    {
     "name": "stdout",
     "output_type": "stream",
     "text": [
      "----x.data----\n",
      "tensor([1., 1., 1.])\n",
      "----x.grad----\n",
      "tensor([ 0.6000,  6.0000, 60.0000])\n",
      "----x.grad_fn----\n",
      "None\n"
     ]
    }
   ],
   "source": [
    "print('----x.data----')\n",
    "print(x.data)\n",
    "print('----x.grad----')\n",
    "print(x.grad)\n",
    "print('----x.grad_fn----')\n",
    "print(x.grad_fn)"
   ]
  }
 ],
 "metadata": {
  "kernelspec": {
   "display_name": "pattern",
   "language": "python",
   "name": "pattern"
  },
  "language_info": {
   "codemirror_mode": {
    "name": "ipython",
    "version": 3
   },
   "file_extension": ".py",
   "mimetype": "text/x-python",
   "name": "python",
   "nbconvert_exporter": "python",
   "pygments_lexer": "ipython3",
   "version": "3.6.9"
  }
 },
 "nbformat": 4,
 "nbformat_minor": 5
}
