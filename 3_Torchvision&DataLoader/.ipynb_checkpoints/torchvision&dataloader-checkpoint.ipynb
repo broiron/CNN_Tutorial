{
 "cells": [
  {
   "cell_type": "code",
   "execution_count": 1,
   "id": "f97aaeab",
   "metadata": {},
   "outputs": [
    {
     "data": {
      "text/plain": [
       "'0.9.0'"
      ]
     },
     "execution_count": 1,
     "metadata": {},
     "output_type": "execute_result"
    }
   ],
   "source": [
    "import torchvision\n",
    "import torchvision.transforms as transforms\n",
    "torchvision.__version__"
   ]
  },
  {
   "cell_type": "code",
   "execution_count": 2,
   "id": "e7474c01",
   "metadata": {},
   "outputs": [],
   "source": [
    "transform = transforms.Compose([transforms.ToTensor(),            \n",
    "                                transforms.Normalize(0.5,0.5,0.5), (0.5,0.5,0.5)])"
   ]
  },
  {
   "cell_type": "code",
   "execution_count": 3,
   "id": "7c90f721",
   "metadata": {},
   "outputs": [
    {
     "name": "stdout",
     "output_type": "stream",
     "text": [
      "Files already downloaded and verified\n",
      "Files already downloaded and verified\n"
     ]
    }
   ],
   "source": [
    "trainset = torchvision.datasets.CIFAR10(root = \"./data\",\n",
    "\t\t\t\t\t    train = True,\n",
    "\t\t\t\t\t    download = True,\n",
    "\t\t\t\t\t    transform=transform)\n",
    "testset = torchvision.datasets.CIFAR10(root = \"./data\",\n",
    "\t\t\t\t\t    train = False,\n",
    "\t\t\t\t\t    download = True,\n",
    "\t\t\t\t\t    transform=transform)\n"
   ]
  }
 ],
 "metadata": {
  "kernelspec": {
   "display_name": "pattern",
   "language": "python",
   "name": "pattern"
  },
  "language_info": {
   "codemirror_mode": {
    "name": "ipython",
    "version": 3
   },
   "file_extension": ".py",
   "mimetype": "text/x-python",
   "name": "python",
   "nbconvert_exporter": "python",
   "pygments_lexer": "ipython3",
   "version": "3.6.9"
  }
 },
 "nbformat": 4,
 "nbformat_minor": 5
}
